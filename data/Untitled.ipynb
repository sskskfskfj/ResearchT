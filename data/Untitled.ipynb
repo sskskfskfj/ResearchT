{
 "cells": [
  {
   "cell_type": "code",
   "execution_count": 38,
   "id": "74f8a676-3379-49d8-928a-fafed47922c4",
   "metadata": {},
   "outputs": [
    {
     "name": "stdout",
     "output_type": "stream",
     "text": [
      "Requirement already satisfied: pandas in /opt/anaconda3/lib/python3.13/site-packages (2.2.3)\n",
      "Collecting pandas\n",
      "  Downloading pandas-2.3.3-cp313-cp313-macosx_11_0_arm64.whl.metadata (91 kB)\n",
      "Requirement already satisfied: numpy>=1.26.0 in /opt/anaconda3/lib/python3.13/site-packages (from pandas) (2.1.3)\n",
      "Requirement already satisfied: python-dateutil>=2.8.2 in /opt/anaconda3/lib/python3.13/site-packages (from pandas) (2.9.0.post0)\n",
      "Requirement already satisfied: pytz>=2020.1 in /opt/anaconda3/lib/python3.13/site-packages (from pandas) (2024.1)\n",
      "Requirement already satisfied: tzdata>=2022.7 in /opt/anaconda3/lib/python3.13/site-packages (from pandas) (2025.2)\n",
      "Requirement already satisfied: six>=1.5 in /opt/anaconda3/lib/python3.13/site-packages (from python-dateutil>=2.8.2->pandas) (1.17.0)\n",
      "Downloading pandas-2.3.3-cp313-cp313-macosx_11_0_arm64.whl (10.7 MB)\n",
      "\u001b[2K   \u001b[38;2;114;156;31m━━━━━━━━━━━━━━━━━━━━━━━━━━━━━━━━━━━━━━━━\u001b[0m \u001b[32m10.7/10.7 MB\u001b[0m \u001b[31m33.8 MB/s\u001b[0m eta \u001b[36m0:00:00\u001b[0mMB/s\u001b[0m eta \u001b[36m0:00:01\u001b[0m\n",
      "Installing collected packages: pandas\n",
      "  Attempting uninstall: pandas\n",
      "    Found existing installation: pandas 2.2.3\n",
      "    Uninstalling pandas-2.2.3:\n",
      "      Successfully uninstalled pandas-2.2.3\n",
      "Successfully installed pandas-2.3.3\n"
     ]
    }
   ],
   "source": [
    "!pip install --upgrade pandas"
   ]
  },
  {
   "cell_type": "code",
   "execution_count": 39,
   "id": "e60ab063-aa10-4401-9967-0abfeeed1597",
   "metadata": {},
   "outputs": [],
   "source": [
    "import pandas as pd\n",
    "import random"
   ]
  },
  {
   "cell_type": "code",
   "execution_count": 19,
   "id": "59c89b1b-a074-4284-a8bf-b12696e253bd",
   "metadata": {},
   "outputs": [],
   "source": [
    "random.seed(42)"
   ]
  },
  {
   "cell_type": "code",
   "execution_count": 3,
   "id": "98be81bb-33cb-4e66-9cf0-764a4292a787",
   "metadata": {},
   "outputs": [
    {
     "data": {
      "text/html": [
       "<div>\n",
       "<style scoped>\n",
       "    .dataframe tbody tr th:only-of-type {\n",
       "        vertical-align: middle;\n",
       "    }\n",
       "\n",
       "    .dataframe tbody tr th {\n",
       "        vertical-align: top;\n",
       "    }\n",
       "\n",
       "    .dataframe thead th {\n",
       "        text-align: right;\n",
       "    }\n",
       "</style>\n",
       "<table border=\"1\" class=\"dataframe\">\n",
       "  <thead>\n",
       "    <tr style=\"text-align: right;\">\n",
       "      <th></th>\n",
       "      <th>arxiv_id</th>\n",
       "      <th>title</th>\n",
       "      <th>authors</th>\n",
       "      <th>submission_date</th>\n",
       "      <th>comments</th>\n",
       "      <th>primary_subject</th>\n",
       "      <th>subjects</th>\n",
       "      <th>doi</th>\n",
       "      <th>abstract</th>\n",
       "      <th>file_path</th>\n",
       "    </tr>\n",
       "  </thead>\n",
       "  <tbody>\n",
       "    <tr>\n",
       "      <th>0</th>\n",
       "      <td>0902.3253</td>\n",
       "      <td>The gravitational wave background from star-ma...</td>\n",
       "      <td>[Silvia Toonen, Clovis Hopman, Marc Freitag]</td>\n",
       "      <td>18 Feb 2009 (&lt;a href=\"https://arxiv.org/abs/09...</td>\n",
       "      <td>Accepted for publication by MNRAS; New appendi...</td>\n",
       "      <td>Earth and Planetary Astrophysics (astro-ph.EP)</td>\n",
       "      <td>Earth and Planetary Astrophysics (astro-ph.EP)</td>\n",
       "      <td>https://doi.org/10.48550/arXiv.0902.3253</td>\n",
       "      <td>Stars on eccentric orbits around a massive bla...</td>\n",
       "      <td>astro-ph-00.zip/0902.3253.pdf</td>\n",
       "    </tr>\n",
       "    <tr>\n",
       "      <th>1</th>\n",
       "      <td>0902.0428</td>\n",
       "      <td>Dynamics of planets in retrograde mean motion ...</td>\n",
       "      <td>[Julie Gayon, Eric Bois, Hans Scholl]</td>\n",
       "      <td>3 Feb 2009</td>\n",
       "      <td>15 pages, 3 figures, accepted for publication ...</td>\n",
       "      <td>Earth and Planetary Astrophysics (astro-ph.EP)</td>\n",
       "      <td>Earth and Planetary Astrophysics (astro-ph.EP)</td>\n",
       "      <td>https://doi.org/10.48550/arXiv.0902.0428</td>\n",
       "      <td>In a previous paper (Gayon &amp;amp; Bois 2008a), ...</td>\n",
       "      <td>astro-ph-00.zip/0902.0428.pdf</td>\n",
       "    </tr>\n",
       "    <tr>\n",
       "      <th>2</th>\n",
       "      <td>0901.3401</td>\n",
       "      <td>Diurnal Thermal Tides in a Non-synchronized Ho...</td>\n",
       "      <td>[Pin-Gao Gu, Gordon I. Ogilvie]</td>\n",
       "      <td>22 Jan 2009</td>\n",
       "      <td>accepted for publication in MNRAS</td>\n",
       "      <td>Earth and Planetary Astrophysics (astro-ph.EP)</td>\n",
       "      <td>Earth and Planetary Astrophysics (astro-ph.EP)</td>\n",
       "      <td>https://doi.org/10.48550/arXiv.0901.3401</td>\n",
       "      <td>We perform a linear analysis to investigate th...</td>\n",
       "      <td>astro-ph-00.zip/0901.3401.pdf</td>\n",
       "    </tr>\n",
       "    <tr>\n",
       "      <th>3</th>\n",
       "      <td>0901.1570</td>\n",
       "      <td>Intermittent turbulence, noisy fluctuations an...</td>\n",
       "      <td>[Z. Vörös, T. L. Zhang, M. P. Leubner, M. Volw...</td>\n",
       "      <td>12 Jan 2009</td>\n",
       "      <td></td>\n",
       "      <td>Earth and Planetary Astrophysics (astro-ph.EP)</td>\n",
       "      <td>Earth and Planetary Astrophysics (astro-ph.EP)</td>\n",
       "      <td>https://doi.org/10.48550/arXiv.0901.1570</td>\n",
       "      <td>Recent research has shown that distinct physic...</td>\n",
       "      <td>astro-ph-00.zip/0901.1570.pdf</td>\n",
       "    </tr>\n",
       "    <tr>\n",
       "      <th>4</th>\n",
       "      <td>0901.2048</td>\n",
       "      <td>Falling Transiting Extrasolar Giant Planets</td>\n",
       "      <td>[B. Levrard, C. Winisdoerffer, G. Chabrier]</td>\n",
       "      <td>14 Jan 2009</td>\n",
       "      <td>To appear in ApJ Letters</td>\n",
       "      <td>Earth and Planetary Astrophysics (astro-ph.EP)</td>\n",
       "      <td>Earth and Planetary Astrophysics (astro-ph.EP)</td>\n",
       "      <td>https://doi.org/10.48550/arXiv.0901.2048</td>\n",
       "      <td>We revisit the tidal stability of extrasolar s...</td>\n",
       "      <td>astro-ph-00.zip/0901.2048.pdf</td>\n",
       "    </tr>\n",
       "  </tbody>\n",
       "</table>\n",
       "</div>"
      ],
      "text/plain": [
       "    arxiv_id                                              title  \\\n",
       "0  0902.3253  The gravitational wave background from star-ma...   \n",
       "1  0902.0428  Dynamics of planets in retrograde mean motion ...   \n",
       "2  0901.3401  Diurnal Thermal Tides in a Non-synchronized Ho...   \n",
       "3  0901.1570  Intermittent turbulence, noisy fluctuations an...   \n",
       "4  0901.2048        Falling Transiting Extrasolar Giant Planets   \n",
       "\n",
       "                                             authors  \\\n",
       "0       [Silvia Toonen, Clovis Hopman, Marc Freitag]   \n",
       "1              [Julie Gayon, Eric Bois, Hans Scholl]   \n",
       "2                    [Pin-Gao Gu, Gordon I. Ogilvie]   \n",
       "3  [Z. Vörös, T. L. Zhang, M. P. Leubner, M. Volw...   \n",
       "4        [B. Levrard, C. Winisdoerffer, G. Chabrier]   \n",
       "\n",
       "                                     submission_date  \\\n",
       "0  18 Feb 2009 (<a href=\"https://arxiv.org/abs/09...   \n",
       "1                                         3 Feb 2009   \n",
       "2                                        22 Jan 2009   \n",
       "3                                        12 Jan 2009   \n",
       "4                                        14 Jan 2009   \n",
       "\n",
       "                                            comments  \\\n",
       "0  Accepted for publication by MNRAS; New appendi...   \n",
       "1  15 pages, 3 figures, accepted for publication ...   \n",
       "2                  accepted for publication in MNRAS   \n",
       "3                                                      \n",
       "4                           To appear in ApJ Letters   \n",
       "\n",
       "                                  primary_subject  \\\n",
       "0  Earth and Planetary Astrophysics (astro-ph.EP)   \n",
       "1  Earth and Planetary Astrophysics (astro-ph.EP)   \n",
       "2  Earth and Planetary Astrophysics (astro-ph.EP)   \n",
       "3  Earth and Planetary Astrophysics (astro-ph.EP)   \n",
       "4  Earth and Planetary Astrophysics (astro-ph.EP)   \n",
       "\n",
       "                                         subjects  \\\n",
       "0  Earth and Planetary Astrophysics (astro-ph.EP)   \n",
       "1  Earth and Planetary Astrophysics (astro-ph.EP)   \n",
       "2  Earth and Planetary Astrophysics (astro-ph.EP)   \n",
       "3  Earth and Planetary Astrophysics (astro-ph.EP)   \n",
       "4  Earth and Planetary Astrophysics (astro-ph.EP)   \n",
       "\n",
       "                                        doi  \\\n",
       "0  https://doi.org/10.48550/arXiv.0902.3253   \n",
       "1  https://doi.org/10.48550/arXiv.0902.0428   \n",
       "2  https://doi.org/10.48550/arXiv.0901.3401   \n",
       "3  https://doi.org/10.48550/arXiv.0901.1570   \n",
       "4  https://doi.org/10.48550/arXiv.0901.2048   \n",
       "\n",
       "                                            abstract  \\\n",
       "0  Stars on eccentric orbits around a massive bla...   \n",
       "1  In a previous paper (Gayon &amp; Bois 2008a), ...   \n",
       "2  We perform a linear analysis to investigate th...   \n",
       "3  Recent research has shown that distinct physic...   \n",
       "4  We revisit the tidal stability of extrasolar s...   \n",
       "\n",
       "                       file_path  \n",
       "0  astro-ph-00.zip/0902.3253.pdf  \n",
       "1  astro-ph-00.zip/0902.0428.pdf  \n",
       "2  astro-ph-00.zip/0901.3401.pdf  \n",
       "3  astro-ph-00.zip/0901.1570.pdf  \n",
       "4  astro-ph-00.zip/0901.2048.pdf  "
      ]
     },
     "execution_count": 3,
     "metadata": {},
     "output_type": "execute_result"
    }
   ],
   "source": [
    "df = pd.read_parquet(\"hf://datasets/nick007x/arxiv-papers/train.parquet\")\n",
    "df.head()"
   ]
  },
  {
   "cell_type": "code",
   "execution_count": 13,
   "id": "189e6834-e14e-47e1-8b2c-4f3b7e728800",
   "metadata": {},
   "outputs": [],
   "source": [
    "df = df[[\"primary_subject\", \"abstract\"]]"
   ]
  },
  {
   "cell_type": "code",
   "execution_count": 14,
   "id": "2d585fde-8594-4932-8fff-e624752d5c95",
   "metadata": {},
   "outputs": [
    {
     "data": {
      "text/plain": [
       "(2549619, 2)"
      ]
     },
     "execution_count": 14,
     "metadata": {},
     "output_type": "execute_result"
    }
   ],
   "source": [
    "df.shape"
   ]
  },
  {
   "cell_type": "code",
   "execution_count": 22,
   "id": "66e91553-a0f1-41e0-84be-c7cf7997c6b5",
   "metadata": {},
   "outputs": [
    {
     "data": {
      "text/plain": [
       "['Computer Vision and Pattern Recognition (cs.CV)',\n",
       " 'Quantum Physics (quant-ph)',\n",
       " 'High Energy Physics - Phenomenology (hep-ph)',\n",
       " 'Machine Learning (cs.LG)',\n",
       " 'High Energy Physics - Theory (hep-th)',\n",
       " 'Mesoscale and Nanoscale Physics (cond-mat.mes-hall)',\n",
       " 'Materials Science (cond-mat.mtrl-sci)',\n",
       " 'Computation and Language (cs.CL)',\n",
       " 'General Relativity and Quantum Cosmology (gr-qc)',\n",
       " 'Analysis of PDEs (math.AP)',\n",
       " 'Astrophysics of Galaxies (astro-ph.GA)',\n",
       " 'Strongly Correlated Electrons (cond-mat.str-el)',\n",
       " 'Combinatorics (math.CO)',\n",
       " 'Solar and Stellar Astrophysics (astro-ph.SR)',\n",
       " 'High Energy Astrophysical Phenomena (astro-ph.HE)',\n",
       " 'Cosmology and Nongalactic Astrophysics (astro-ph.CO)',\n",
       " 'Statistical Mechanics (cond-mat.stat-mech)',\n",
       " 'Probability (math.PR)',\n",
       " 'Algebraic Geometry (math.AG)',\n",
       " 'Information Theory (cs.IT)']"
      ]
     },
     "execution_count": 22,
     "metadata": {},
     "output_type": "execute_result"
    }
   ],
   "source": [
    "stratum_list = df[\"primary_subject\"].value_counts().head(20).index.tolist()\n",
    "df[\"primary_subject\"].value_counts().head(20)\n",
    "stratum_list"
   ]
  },
  {
   "cell_type": "code",
   "execution_count": 25,
   "id": "581ecc4b-4a01-4454-8bae-57e459aafef8",
   "metadata": {},
   "outputs": [],
   "source": [
    "target_subjects = [\n",
    "        'Computer Vision and Pattern Recognition (cs.CV)',\n",
    "        'Quantum Physics (quant-ph)',\n",
    "        'High Energy Physics - Phenomenology (hep-ph)',\n",
    "        'Machine Learning (cs.LG)',\n",
    "        'High Energy Physics - Theory (hep-th)',\n",
    "        'Mesoscale and Nanoscale Physics (cond-mat.mes-hall)',\n",
    "        'Materials Science (cond-mat.mtrl-sci)',\n",
    "        'Computation and Language (cs.CL)',\n",
    "        'General Relativity and Quantum Cosmology (gr-qc)',\n",
    "        'Analysis of PDEs (math.AP)',\n",
    "        'Astrophysics of Galaxies (astro-ph.GA)',\n",
    "        'Strongly Correlated Electrons (cond-mat.str-el)',\n",
    "        'Combinatorics (math.CO)',\n",
    "        'Solar and Stellar Astrophysics (astro-ph.SR)',\n",
    "        'High Energy Astrophysical Phenomena (astro-ph.HE)',\n",
    "        'Cosmology and Nongalactic Astrophysics (astro-ph.CO)',\n",
    "        'Statistical Mechanics (cond-mat.stat-mech)',\n",
    "        'Probability (math.PR)',\n",
    "        'Algebraic Geometry (math.AG)',\n",
    "        'Information Theory (cs.IT)'\n",
    "    ]"
   ]
  },
  {
   "cell_type": "code",
   "execution_count": 57,
   "id": "bdb97b83-e0eb-4c96-839a-7ebffcf214ff",
   "metadata": {},
   "outputs": [
    {
     "name": "stderr",
     "output_type": "stream",
     "text": [
      "/var/folders/tk/45y7rncs22l9q3ytd19lgcsr0000gn/T/ipykernel_80093/3516616263.py:4: DeprecationWarning: DataFrameGroupBy.apply operated on the grouping columns. This behavior is deprecated, and in a future version of pandas the grouping columns will be excluded from the operation. Either pass `include_groups=False` to exclude the groupings or explicitly select the grouping columns after groupby to silence this warning.\n",
      "  .apply(lambda x : x.sample(1000, random_state = 42))\\\n"
     ]
    }
   ],
   "source": [
    "df_filtered = df[df[\"primary_subject\"].isin(target_subjects)]\n",
    "\n",
    "df_filtered = df_filtered.groupby(\"primary_subject\", group_keys = False)\\\n",
    ".apply(lambda x : x.sample(1000, random_state = 42))\\\n",
    ".reset_index(drop = True)"
   ]
  },
  {
   "cell_type": "code",
   "execution_count": 58,
   "id": "a10bfa18-d666-475b-a9c0-83462a63b896",
   "metadata": {},
   "outputs": [
    {
     "data": {
      "text/html": [
       "<div>\n",
       "<style scoped>\n",
       "    .dataframe tbody tr th:only-of-type {\n",
       "        vertical-align: middle;\n",
       "    }\n",
       "\n",
       "    .dataframe tbody tr th {\n",
       "        vertical-align: top;\n",
       "    }\n",
       "\n",
       "    .dataframe thead th {\n",
       "        text-align: right;\n",
       "    }\n",
       "</style>\n",
       "<table border=\"1\" class=\"dataframe\">\n",
       "  <thead>\n",
       "    <tr style=\"text-align: right;\">\n",
       "      <th></th>\n",
       "      <th>primary_subject</th>\n",
       "      <th>abstract</th>\n",
       "    </tr>\n",
       "  </thead>\n",
       "  <tbody>\n",
       "    <tr>\n",
       "      <th>0</th>\n",
       "      <td>High Energy Physics - Theory (hep-th)</td>\n",
       "      <td>We explicitly calculate a Witten diagram with ...</td>\n",
       "    </tr>\n",
       "    <tr>\n",
       "      <th>1</th>\n",
       "      <td>Astrophysics of Galaxies (astro-ph.GA)</td>\n",
       "      <td>We use three different techniques to identify ...</td>\n",
       "    </tr>\n",
       "    <tr>\n",
       "      <th>2</th>\n",
       "      <td>High Energy Astrophysical Phenomena (astro-ph.HE)</td>\n",
       "      <td>One of the most important features in active g...</td>\n",
       "    </tr>\n",
       "    <tr>\n",
       "      <th>3</th>\n",
       "      <td>Analysis of PDEs (math.AP)</td>\n",
       "      <td>We establish convergence in the diffusive limi...</td>\n",
       "    </tr>\n",
       "    <tr>\n",
       "      <th>4</th>\n",
       "      <td>Materials Science (cond-mat.mtrl-sci)</td>\n",
       "      <td>Anomalous electrocaloric effect (ECE) with dec...</td>\n",
       "    </tr>\n",
       "    <tr>\n",
       "      <th>...</th>\n",
       "      <td>...</td>\n",
       "      <td>...</td>\n",
       "    </tr>\n",
       "    <tr>\n",
       "      <th>19995</th>\n",
       "      <td>Information Theory (cs.IT)</td>\n",
       "      <td>Resistive random-access memory is one of the m...</td>\n",
       "    </tr>\n",
       "    <tr>\n",
       "      <th>19996</th>\n",
       "      <td>Information Theory (cs.IT)</td>\n",
       "      <td>We consider the problem of selecting $k_t \\tim...</td>\n",
       "    </tr>\n",
       "    <tr>\n",
       "      <th>19997</th>\n",
       "      <td>Computer Vision and Pattern Recognition (cs.CV)</td>\n",
       "      <td>Images taken through window glass are often de...</td>\n",
       "    </tr>\n",
       "    <tr>\n",
       "      <th>19998</th>\n",
       "      <td>Algebraic Geometry (math.AG)</td>\n",
       "      <td>Bezrukavnikov and Kaledin introduced quantizat...</td>\n",
       "    </tr>\n",
       "    <tr>\n",
       "      <th>19999</th>\n",
       "      <td>Probability (math.PR)</td>\n",
       "      <td>Much effort has been spent in recent years on ...</td>\n",
       "    </tr>\n",
       "  </tbody>\n",
       "</table>\n",
       "<p>20000 rows × 2 columns</p>\n",
       "</div>"
      ],
      "text/plain": [
       "                                         primary_subject  \\\n",
       "0                  High Energy Physics - Theory (hep-th)   \n",
       "1                 Astrophysics of Galaxies (astro-ph.GA)   \n",
       "2      High Energy Astrophysical Phenomena (astro-ph.HE)   \n",
       "3                             Analysis of PDEs (math.AP)   \n",
       "4                  Materials Science (cond-mat.mtrl-sci)   \n",
       "...                                                  ...   \n",
       "19995                         Information Theory (cs.IT)   \n",
       "19996                         Information Theory (cs.IT)   \n",
       "19997    Computer Vision and Pattern Recognition (cs.CV)   \n",
       "19998                       Algebraic Geometry (math.AG)   \n",
       "19999                              Probability (math.PR)   \n",
       "\n",
       "                                                abstract  \n",
       "0      We explicitly calculate a Witten diagram with ...  \n",
       "1      We use three different techniques to identify ...  \n",
       "2      One of the most important features in active g...  \n",
       "3      We establish convergence in the diffusive limi...  \n",
       "4      Anomalous electrocaloric effect (ECE) with dec...  \n",
       "...                                                  ...  \n",
       "19995  Resistive random-access memory is one of the m...  \n",
       "19996  We consider the problem of selecting $k_t \\tim...  \n",
       "19997  Images taken through window glass are often de...  \n",
       "19998  Bezrukavnikov and Kaledin introduced quantizat...  \n",
       "19999  Much effort has been spent in recent years on ...  \n",
       "\n",
       "[20000 rows x 2 columns]"
      ]
     },
     "execution_count": 58,
     "metadata": {},
     "output_type": "execute_result"
    }
   ],
   "source": [
    "shuffled_df = df_filtered.sample(frac = 1, random_state = 42).reset_index(drop = True)\n",
    "shuffled_df"
   ]
  },
  {
   "cell_type": "code",
   "execution_count": 59,
   "id": "25279743-2a66-4685-a58c-23ab4bb6ebfa",
   "metadata": {},
   "outputs": [
    {
     "data": {
      "text/plain": [
       "0    We explicitly calculate a Witten diagram with ...\n",
       "1    We use three different techniques to identify ...\n",
       "2    One of the most important features in active g...\n",
       "3    We establish convergence in the diffusive limi...\n",
       "4    Anomalous electrocaloric effect (ECE) with dec...\n",
       "5    We investigate joint power allocation and deco...\n",
       "6    The problem of channel coding with the erasure...\n",
       "7    Fisher proved in 1940 that any $2$-$(v,k,\\lamb...\n",
       "8    A one dimensional optical lattice is considere...\n",
       "9    We carry out an extensive linear stability ana...\n",
       "Name: abstract, dtype: object"
      ]
     },
     "execution_count": 59,
     "metadata": {},
     "output_type": "execute_result"
    }
   ],
   "source": [
    "preprocessed_data = shuffled_df[\"abstract\"]\n",
    "preprocessed_data.head(10)"
   ]
  },
  {
   "cell_type": "code",
   "execution_count": 108,
   "id": "95e3f42d-3a3c-4f6c-beff-c24b65101dea",
   "metadata": {},
   "outputs": [
    {
     "data": {
      "text/plain": [
       "(140719,)"
      ]
     },
     "execution_count": 108,
     "metadata": {},
     "output_type": "execute_result"
    }
   ],
   "source": [
    "str_list = []\n",
    "\n",
    "for content in preprocessed_data.values:\n",
    "    str_list.append(content.split(\".\")[:-1])\n",
    "\n",
    "str_list = [s for sub_list in str_list for s in sub_list]\n",
    "final_data = pd.Series(str_list, dtype = str)\n",
    "\n",
    "final_data.shape"
   ]
  },
  {
   "cell_type": "code",
   "execution_count": null,
   "id": "e8afa2fb-72d6-4476-b1da-98ea6bd701c9",
   "metadata": {},
   "outputs": [],
   "source": []
  }
 ],
 "metadata": {
  "kernelspec": {
   "display_name": "env",
   "language": "python",
   "name": "env"
  },
  "language_info": {
   "codemirror_mode": {
    "name": "ipython",
    "version": 3
   },
   "file_extension": ".py",
   "mimetype": "text/x-python",
   "name": "python",
   "nbconvert_exporter": "python",
   "pygments_lexer": "ipython3",
   "version": "3.13.5"
  }
 },
 "nbformat": 4,
 "nbformat_minor": 5
}
